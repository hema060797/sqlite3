{
 "cells": [
  {
   "cell_type": "code",
   "execution_count": 1,
   "metadata": {},
   "outputs": [],
   "source": [
    "import sqlite3"
   ]
  },
  {
   "cell_type": "code",
   "execution_count": 9,
   "metadata": {},
   "outputs": [],
   "source": [
    "c=sqlite3.connect(\"hemu\")"
   ]
  },
  {
   "cell_type": "code",
   "execution_count": 10,
   "metadata": {},
   "outputs": [
    {
     "data": {
      "text/plain": [
       "<sqlite3.Cursor at 0x172046a33b0>"
      ]
     },
     "execution_count": 10,
     "metadata": {},
     "output_type": "execute_result"
    }
   ],
   "source": [
    "c.execute('drop table if exists abc')"
   ]
  },
  {
   "cell_type": "code",
   "execution_count": 11,
   "metadata": {},
   "outputs": [
    {
     "data": {
      "text/plain": [
       "<sqlite3.Cursor at 0x1720454df80>"
      ]
     },
     "execution_count": 11,
     "metadata": {},
     "output_type": "execute_result"
    }
   ],
   "source": [
    "c.execute(\"create table abc(id int,name text,score int)\")"
   ]
  },
  {
   "cell_type": "code",
   "execution_count": 14,
   "metadata": {},
   "outputs": [
    {
     "data": {
      "text/plain": [
       "<sqlite3.Cursor at 0x1720454de30>"
      ]
     },
     "execution_count": 14,
     "metadata": {},
     "output_type": "execute_result"
    }
   ],
   "source": [
    "c.execute(\"insert into abc (id,name,score)values(1,'hemu',98)\")\n",
    "c.execute(\"insert into abc (id,name,score)values(2,'ram',99)\")\n",
    "c.execute(\"insert into abc (id,name,score)values(3,'kani',90)\")\n",
    "c.execute(\"insert into abc (id,name,score)values(4,'swathi',97)\")\n",
    "c.execute(\"insert into abc (id,name,score)values(5,'priya',96)\")\n",
    "c.execute(\"insert into abc (id,name,score)values(6,'moni',92)\")\n",
    "c.execute(\"insert into abc (id,name,score)values(7,'revz',97)\")"
   ]
  },
  {
   "cell_type": "code",
   "execution_count": 15,
   "metadata": {},
   "outputs": [],
   "source": [
    "c.commit()"
   ]
  },
  {
   "cell_type": "code",
   "execution_count": 16,
   "metadata": {},
   "outputs": [
    {
     "data": {
      "text/plain": [
       "[(1, 'hemu', 98),\n",
       " (1, 'hemu', 98),\n",
       " (2, 'ram', 99),\n",
       " (3, 'kani', 90),\n",
       " (4, 'swathi', 97),\n",
       " (5, 'priya', 96),\n",
       " (6, 'moni', 92),\n",
       " (7, 'revz', 97)]"
      ]
     },
     "execution_count": 16,
     "metadata": {},
     "output_type": "execute_result"
    }
   ],
   "source": [
    "list(c.execute(\"select * from abc\"))"
   ]
  },
  {
   "cell_type": "code",
   "execution_count": 18,
   "metadata": {},
   "outputs": [
    {
     "name": "stdout",
     "output_type": "stream",
     "text": [
      "(1, 'hemu', 98)\n",
      "(1, 'hemu', 98)\n",
      "(2, 'ram', 99)\n",
      "(3, 'kani', 90)\n",
      "(4, 'swathi', 97)\n",
      "(5, 'priya', 96)\n",
      "(6, 'moni', 92)\n",
      "(7, 'revz', 97)\n"
     ]
    }
   ],
   "source": [
    "for i in c.execute(\"select * from abc\"):\n",
    "    print (i)"
   ]
  },
  {
   "cell_type": "code",
   "execution_count": 19,
   "metadata": {},
   "outputs": [
    {
     "name": "stdout",
     "output_type": "stream",
     "text": [
      "(3, 'kani', 90)\n",
      "(6, 'moni', 92)\n",
      "(5, 'priya', 96)\n",
      "(4, 'swathi', 97)\n",
      "(7, 'revz', 97)\n",
      "(1, 'hemu', 98)\n",
      "(1, 'hemu', 98)\n",
      "(2, 'ram', 99)\n"
     ]
    }
   ],
   "source": [
    "for i in c.execute(\"select * from abc order by score\"):\n",
    "    print(i)"
   ]
  },
  {
   "cell_type": "code",
   "execution_count": 25,
   "metadata": {},
   "outputs": [
    {
     "name": "stdout",
     "output_type": "stream",
     "text": [
      "(2, 'ram', 99)\n",
      "(1, 'hemu', 98)\n",
      "(1, 'hemu', 98)\n",
      "(4, 'swathi', 97)\n",
      "(7, 'revz', 97)\n",
      "(5, 'priya', 96)\n",
      "(6, 'moni', 92)\n",
      "(3, 'kani', 90)\n"
     ]
    }
   ],
   "source": [
    "for i in c.execute(\"select * from abc order by score desc\"):\n",
    "    print(i)"
   ]
  },
  {
   "cell_type": "code",
   "execution_count": 28,
   "metadata": {},
   "outputs": [
    {
     "name": "stdout",
     "output_type": "stream",
     "text": [
      "(1, 'hemu', 98)\n",
      "(1, 'hemu', 98)\n"
     ]
    }
   ],
   "source": [
    "for i in c.execute(\"select * from abc where name='hemu'\"):\n",
    "                   print(i)\n"
   ]
  },
  {
   "cell_type": "code",
   "execution_count": 32,
   "metadata": {},
   "outputs": [],
   "source": [
    "import mysql.connector"
   ]
  },
  {
   "cell_type": "code",
   "execution_count": 30,
   "metadata": {},
   "outputs": [
    {
     "name": "stdout",
     "output_type": "stream",
     "text": [
      "Collecting mysql\n",
      "  Using cached https://files.pythonhosted.org/packages/bf/5f/b574ac9f70811df0540e403309f349a8b9fa1a25d3653824c32e52cc1f28/mysql-0.0.2.tar.gz\n",
      "Collecting mysqlclient (from mysql)\n",
      "  Downloading https://files.pythonhosted.org/packages/5d/b3/a753b836eab49c865651eb2bc7203d070c58e5f22b33015b48fa6112bd7a/mysqlclient-1.4.6-cp37-cp37m-win_amd64.whl (262kB)\n",
      "Building wheels for collected packages: mysql\n",
      "  Building wheel for mysql (setup.py): started\n",
      "  Building wheel for mysql (setup.py): finished with status 'done'\n",
      "  Stored in directory: C:\\Users\\Lenovo\\AppData\\Local\\pip\\Cache\\wheels\\4f\\10\\3f\\4930effd0320769375b5094e279cb0e4a4c10a7e5811b58f8a\n",
      "Successfully built mysql\n",
      "Installing collected packages: mysqlclient, mysql\n",
      "Successfully installed mysql-0.0.2 mysqlclient-1.4.6\n"
     ]
    }
   ],
   "source": [
    "!pip install mysql"
   ]
  },
  {
   "cell_type": "code",
   "execution_count": 31,
   "metadata": {},
   "outputs": [
    {
     "name": "stdout",
     "output_type": "stream",
     "text": [
      "Collecting mysql-connector\n",
      "  Downloading https://files.pythonhosted.org/packages/28/04/e40098f3730e75bbe36a338926f566ea803550a34fb50535499f4fc4787a/mysql-connector-2.2.9.tar.gz (11.9MB)\n",
      "Building wheels for collected packages: mysql-connector\n",
      "  Building wheel for mysql-connector (setup.py): started\n",
      "  Building wheel for mysql-connector (setup.py): finished with status 'done'\n",
      "  Stored in directory: C:\\Users\\Lenovo\\AppData\\Local\\pip\\Cache\\wheels\\8c\\83\\a1\\f8b6d4bb1bd6208bbde1608bbfa7557504bed9eaf2ecf8c175\n",
      "Successfully built mysql-connector\n",
      "Installing collected packages: mysql-connector\n",
      "Successfully installed mysql-connector-2.2.9\n"
     ]
    }
   ],
   "source": [
    "!pip install mysql-connector"
   ]
  },
  {
   "cell_type": "code",
   "execution_count": null,
   "metadata": {},
   "outputs": [],
   "source": []
  }
 ],
 "metadata": {
  "kernelspec": {
   "display_name": "Python 3",
   "language": "python",
   "name": "python3"
  },
  "language_info": {
   "codemirror_mode": {
    "name": "ipython",
    "version": 3
   },
   "file_extension": ".py",
   "mimetype": "text/x-python",
   "name": "python",
   "nbconvert_exporter": "python",
   "pygments_lexer": "ipython3",
   "version": "3.7.6"
  }
 },
 "nbformat": 4,
 "nbformat_minor": 2
}
